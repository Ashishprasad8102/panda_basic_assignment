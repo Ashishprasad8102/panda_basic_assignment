{
 "cells": [
  {
   "cell_type": "code",
   "execution_count": null,
   "id": "de0fb477-c534-45b8-881b-74b355826735",
   "metadata": {},
   "outputs": [],
   "source": [
    "1>  ashish = [4,8,15,16,23,42]"
   ]
  },
  {
   "cell_type": "code",
   "execution_count": 13,
   "id": "27fe9597-4494-4b4b-9c4a-8fb7ebe7c1ff",
   "metadata": {},
   "outputs": [
    {
     "name": "stdout",
     "output_type": "stream",
     "text": [
      "0    10\n",
      "1    20\n",
      "2    30\n",
      "3    40\n",
      "4    50\n",
      "dtype: int64\n"
     ]
    }
   ],
   "source": [
    "2> import pandas as pd\n",
    "\n",
    "# List of integers\n",
    "data = [10, 20, 30, 40, 50]\n",
    "\n",
    "# Create a Pandas Series\n",
    "series = pd.Series(data)\n",
    "\n",
    "# Print the Pandas Series\n",
    "print(series)\n"
   ]
  },
  {
   "cell_type": "code",
   "execution_count": 17,
   "id": "6122ebab-9ec3-4228-920c-107970d604ed",
   "metadata": {},
   "outputs": [
    {
     "name": "stdout",
     "output_type": "stream",
     "text": [
      "     name  age  Gender\n",
      "0   Alice   25  famale\n",
      "1     Bob   30    Male\n",
      "2  claire   27  Famale\n"
     ]
    }
   ],
   "source": [
    "3.>import pandas as pd \n",
    "ashish2 ={\n",
    "    'name':['Alice','Bob','claire'],\n",
    "    'age':[25,30,27],\n",
    "    'Gender':['famale','Male','Famale']\n",
    "}\n",
    "df = pd.DataFrame(ashish2)\n",
    "print(df)"
   ]
  },
  {
   "cell_type": "code",
   "execution_count": null,
   "id": "ddf526aa-d7d2-4ffc-84e0-ac620150b54c",
   "metadata": {},
   "outputs": [],
   "source": [
    "4. In Pandas, a DataFrame is a two-dimensional, tabular data structure, similar to a spreadsheet or SQL table.\n",
    "It is the most commonly used data structure in Pandas and provides a powerful way to organize and manipulate data.\n",
    "The DataFrame is a primary data structure for data analysis and data manipulation tasks in Python.\n",
    "\n",
    "\n",
    "A DataFrame consists of rows and columns, where each column can hold data of different types (e.g., integers,\n",
    "floats, strings, etc.). It is essentially a collection of Pandas Series that share the same index, and each \n",
    "Series represents a column of data. The index of the DataFrame allows for label-based indexing, enabling easy\n",
    "access to rows and columns.\n",
    "\n",
    "Here's a brief summary of the differences between a Pandas Series and a DataFrame:\n",
    "\n",
    "Dimensionality:\n",
    "\n",
    "Series: A one-dimensional labeled array, similar to a Python list or dictionary with a single column of data.\n",
    "DataFrame: A two-dimensional tabular data structure with rows and columns, similar to a spreadsheet or SQL table.\n",
    "Number of Columns:\n",
    "\n",
    "Series: Contains only one column of data.\n",
    "DataFrame: Can have multiple columns of different data types.\n",
    "Indexing:\n",
    "\n",
    "Series: Has only one index, which is used to access individual elements.\n",
    "DataFrame: Has two indices - one for rows and one for columns, allowing for easy access to data along both axes.\n",
    "Usage:\n",
    "\n",
    "Series: Suitable for working with a single column of data or a one-dimensional dataset.\n",
    "DataFrame: Suitable for working with multiple columns of data, representing a more complex, structured dataset.\n",
    "Data Shape:\n",
    "\n",
    "Series: Contains a single column of data, so it's effectively a 1D data structure.\n",
    "DataFrame: Contains multiple columns, making it a 2D data structure.\n",
    "\n",
    "\n",
    "\n",
    "\n",
    "import pandas as pd\n",
    "\n",
    "# Creating a Pandas Series from a list\n",
    "data = [10, 20, 30, 40, 50]\n",
    "series = pd.Series(data)\n",
    "\n",
    "print(series)\n",
    "\n",
    "\n",
    "import pandas as pd\n",
    "\n",
    "# Creating a Pandas DataFrame from a dictionary\n",
    "data = {\n",
    "    'Name': ['John', 'Alice', 'Bob'],\n",
    "    'Age': [25, 30, 22],\n",
    "    'City': ['New York', 'San Francisco', 'Chicago']\n",
    "}\n",
    "\n",
    "df = pd.DataFrame(data)\n",
    "\n",
    "print(df)\n",
    "\n"
   ]
  },
  {
   "cell_type": "code",
   "execution_count": null,
   "id": "19fdedaf-707a-42e9-a4d4-ee9b9b329c75",
   "metadata": {},
   "outputs": [],
   "source": [
    "5. Pandas provides a wide range of functions to manipulate data in a DataFrame. Here are some common functions\n",
    "and methods you can use:\n",
    "\n",
    "head() and tail(): These functions allow you to view the first few rows (head) or last few rows (tail) of a DataFrame.\n",
    "\n",
    "\n",
    "import pandas as pd\n",
    "\n",
    "# Create a DataFrame\n",
    "data = {\n",
    "    'Name': ['John', 'Alice', 'Bob', 'Eve', 'Michael'],\n",
    "    'Age': [25, 30, 22, 28, 35],\n",
    "    'City': ['New York', 'San Francisco', 'Chicago', 'Los Angeles', 'Boston']\n",
    "}\n",
    "\n",
    "df = pd.DataFrame(data)\n",
    "\n",
    "print(df.head(3))  # Display the first 3 rows\n",
    "print(df.tail(2))  # Display the last 2 rows"
   ]
  },
  {
   "cell_type": "code",
   "execution_count": null,
   "id": "863759ba-a92e-4ff4-9012-203c4c96b3c6",
   "metadata": {},
   "outputs": [],
   "source": [
    "6>In Pandas, both Series and DataFrame are mutable data structures, meaning you can modify their contents after\n",
    "they have been created. However, Panel is an immutable data structure, which means you cannot change its contents\n",
    "once it's created.\n",
    "\n",
    "DataFrame: Mutable\n",
    "\n",
    "Like Series, you can modify the values of DataFrame cells, add or delete rows and columns, perform various data\n",
    "manipulation operations, and more.\n",
    "Panel: Immutable\n",
    "\n",
    "Panel was a 3-dimensional data structure in older versions of Pandas. However, it has been deprecated since\n",
    "Pandas version 0.25.0, and multi-dimensional data is now better represented using other data structures like\n",
    "DataFrame or MultiIndex."
   ]
  },
  {
   "cell_type": "code",
   "execution_count": 18,
   "id": "d0139791-dbd7-4436-b8f7-049c55b98948",
   "metadata": {},
   "outputs": [
    {
     "ename": "SyntaxError",
     "evalue": "invalid syntax (2248450202.py, line 1)",
     "output_type": "error",
     "traceback": [
      "\u001b[0;36m  Cell \u001b[0;32mIn[18], line 1\u001b[0;36m\u001b[0m\n\u001b[0;31m    6. Create a datafram using multiple series ,explain with an example\u001b[0m\n\u001b[0m       ^\u001b[0m\n\u001b[0;31mSyntaxError\u001b[0m\u001b[0;31m:\u001b[0m invalid syntax\n"
     ]
    }
   ],
   "source": [
    "6. Create a datafram using multiple series ,explain with an example\n"
   ]
  },
  {
   "cell_type": "code",
   "execution_count": null,
   "id": "7f739dbc-d3d0-4a5c-a366-5a0416e5ea53",
   "metadata": {},
   "outputs": [],
   "source": []
  }
 ],
 "metadata": {
  "kernelspec": {
   "display_name": "Python 3 (ipykernel)",
   "language": "python",
   "name": "python3"
  },
  "language_info": {
   "codemirror_mode": {
    "name": "ipython",
    "version": 3
   },
   "file_extension": ".py",
   "mimetype": "text/x-python",
   "name": "python",
   "nbconvert_exporter": "python",
   "pygments_lexer": "ipython3",
   "version": "3.10.8"
  }
 },
 "nbformat": 4,
 "nbformat_minor": 5
}
